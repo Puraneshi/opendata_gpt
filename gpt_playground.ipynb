{
 "cells": [
  {
   "cell_type": "code",
   "execution_count": 1,
   "outputs": [],
   "source": [
    "from gpt_xml_helpers import *"
   ],
   "metadata": {
    "collapsed": false,
    "pycharm": {
     "name": "#%%\n"
    }
   }
  },
  {
   "cell_type": "code",
   "execution_count": 2,
   "outputs": [],
   "source": [
    "import io\n",
    "import os\n",
    "import time\n",
    "import pandas as pd\n",
    "import xml.etree.ElementTree as ET\n",
    "from typing import Dict\n",
    "from pathlib import Path"
   ],
   "metadata": {
    "collapsed": false,
    "pycharm": {
     "name": "#%%\n"
    }
   }
  },
  {
   "cell_type": "code",
   "execution_count": 75,
   "outputs": [],
   "source": [
    "# wrapper = GPTWrapper(\"gpt-3.5-turbo-1106\")\n",
    "wrapper = GPTWrapper(\"gpt-4-1106-preview\")"
   ],
   "metadata": {
    "collapsed": false,
    "pycharm": {
     "name": "#%%\n"
    }
   }
  },
  {
   "cell_type": "code",
   "execution_count": 76,
   "outputs": [],
   "source": [
    "data_path = Path("path_to_xml_root_folder")\n",
    "xml_folder = data_path / 'sample_xmls'" # or other folder
   ],
   "metadata": {
    "collapsed": false,
    "pycharm": {
     "name": "#%%\n"
    }
   }
  },
  {
   "cell_type": "code",
   "execution_count": 4,
   "outputs": [],
   "source": [
    "xml_files = []\n",
    "\n",
    "for root, dirs, files in os.walk(xml_folder):\n",
    "    for file in files:\n",
    "        if file.endswith('.xml'):\n",
    "            xml_files.append(os.path.join(root, file))"
   ],
   "metadata": {
    "collapsed": false,
    "pycharm": {
     "name": "#%%\n"
    }
   }
  },
  {
   "cell_type": "code",
   "execution_count": 77,
   "outputs": [],
   "source": [
    "def prompt_truncated_paper(wrapper, parsed_xml: Dict, max_tokens: int = 100000):\n",
    "    truncated_paper = truncate(\n",
    "        f\"\"\"Abstract:\n",
    "```\n",
    "{parsed_xml['abstract']}\n",
    "```\n",
    "\n",
    "Figures/Tables Captions:\n",
    "```\n",
    "{parsed_xml['figure_and_table_captions']}\n",
    "```\n",
    "\n",
    "Main Content:\n",
    "```\n",
    "{parsed_xml['main_content']}\n",
    "```\"\"\",\n",
    "        max_tokens,\n",
    "        wrapper,\n",
    "    )\n",
    "\n",
    "    text_to_send = f\"\"\"Your task now is to evaluate whether a scientific publication titled \"{parsed_xml['title']}\" includes information on how to obtain the data reported in the paper:\n",
    "\n",
    "{truncated_paper}\n",
    "\n",
    "\n",
    "======\n",
    "Your task:\n",
    "Determine whether this paper reports shared data.\n",
    "\n",
    "Start by \"Transparency outline:\".\n",
    "And then answer:\n",
    "\"1. List the types of data reported in the paper\"\n",
    "\"2. Species of organisms studied(e.g. human, mouse, rat, non-human primate, etc)\"\n",
    "\"3. How to obtain raw data\"\n",
    "\"4. Data sharing statement\"\n",
    "\"5. Print a pipe separated csv with: \"type_of_data\" | \"species\" | \"link_to_dataset\" | \"data_sharing_statement\"\"\n",
    "\n",
    "Start the csv with \"csv\" and finish it with \"/csv\".\n",
    "\n",
    "\"\"\"\n",
    "    return text_to_send"
   ],
   "metadata": {
    "collapsed": false,
    "pycharm": {
     "name": "#%%\n"
    }
   }
  },
  {
   "cell_type": "code",
   "execution_count": 78,
   "outputs": [],
   "source": [
    "def step2_parse_xml(xml: str) -> Dict:\n",
    "    xml_file = io.StringIO(xml)\n",
    "    tree = ET.parse(xml_file)\n",
    "    root = tree.getroot()\n",
    "\n",
    "    title = get_article_title(root)\n",
    "    abstract = get_abstract(root)\n",
    "    introduction = get_section_text(root, section_title=\"Introduction\")\n",
    "    figure_and_table_captions = get_figure_and_table_captions(root)\n",
    "\n",
    "    # Get all section titles, including Figures\n",
    "    section_titles = [\n",
    "        sec.find(\"title\").text if sec.find(\"title\") is not None else \"\"\n",
    "        for sec in root.findall(\".//sec\")\n",
    "    ]\n",
    "\n",
    "    # Get Main_content section, including Introduction, but excluding Figures\n",
    "    main_content = get_main_content(root)\n",
    "\n",
    "    return {\n",
    "        \"title\": title,\n",
    "        \"abstract\": abstract,\n",
    "        \"introduction\": introduction,\n",
    "        \"figure_and_table_captions\": figure_and_table_captions,\n",
    "        \"section_titles\": section_titles,\n",
    "        \"main_content\": main_content,\n",
    "    }\n",
    "\n",
    "# adapt number of tokens here\n",
    "def step3_get_lm_review(wrapper, parsed_xml: Dict) -> Dict:\n",
    "    text_to_send = prompt_truncated_paper(wrapper, parsed_xml, 15000)\n",
    "    review_generated = wrapper.send_query(text_to_send, n_query=1)\n",
    "    return {\"text_to_send\": text_to_send, \"review_generated\": review_generated}"
   ],
   "metadata": {
    "collapsed": false,
    "pycharm": {
     "name": "#%%\n"
    }
   }
  },
  {
   "cell_type": "code",
   "execution_count": 9,
   "outputs": [],
   "source": [
    "# for each xml file, calculate the number of tokens for the prompt\n",
    "tokens_per_article = {}\n",
    "for xml_file in xml_files:\n",
    "    with open(xml_file) as xml:\n",
    "        try:\n",
    "            parsed_xml = step2_parse_xml(xml.read())\n",
    "            text_to_send = prompt_truncated_paper(wrapper, parsed_xml)\n",
    "            num_tokens = wrapper.compute_num_tokens(text_to_send)\n",
    "            tokens_per_article[os.path.basename(xml_file).strip('.xml')] = num_tokens\n",
    "        except Exception as e:\n",
    "            # print(e)\n",
    "            continue"
   ],
   "metadata": {
    "collapsed": false,
    "pycharm": {
     "name": "#%%\n"
    }
   }
  },
  {
   "cell_type": "code",
   "execution_count": 21,
   "outputs": [
    {
     "data": {
      "text/plain": "<Figure size 640x480 with 1 Axes>",
      "image/png": "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"
     },
     "metadata": {},
     "output_type": "display_data"
    }
   ],
   "source": [
    "import matplotlib.pyplot as plt\n",
    "\n",
    "# token distribution\n",
    "hist_tokens = [t for t in tokens_per_article.values() if 1000 < t < 80000]\n",
    "plt.hist(hist_tokens, bins=100, edgecolor='black')\n",
    "plt.show()"
   ],
   "metadata": {
    "collapsed": false,
    "pycharm": {
     "name": "#%%\n"
    }
   }
  },
  {
   "cell_type": "code",
   "execution_count": 22,
   "outputs": [],
   "source": [
    "# filter out articles with more tokens than context window (~15-16k)\n",
    "filtered_articles = {k: v for k, v in tokens_per_article.items() if v < 15000}"
   ],
   "metadata": {
    "collapsed": false,
    "pycharm": {
     "name": "#%%\n"
    }
   }
  },
  {
   "cell_type": "code",
   "execution_count": 23,
   "outputs": [],
   "source": [
    "rtransparent_df = pd.read_csv(\"xml_data_code_rtransparent.csv\")"
   ],
   "metadata": {
    "collapsed": false,
    "pycharm": {
     "name": "#%%\n"
    }
   }
  },
  {
   "cell_type": "code",
   "execution_count": 24,
   "outputs": [],
   "source": [
    "# now we make two groups from rtransparent:\n",
    "# one where \"is_open_data\" is True\n",
    "# one where it's False\n",
    "# Then, sample from our filtered_articles\n",
    "open_data = rtransparent_df[rtransparent_df['is_open_data'] == True]\n",
    "not_open_data = rtransparent_df[rtransparent_df['is_open_data'] == False]"
   ],
   "metadata": {
    "collapsed": false,
    "pycharm": {
     "name": "#%%\n"
    }
   }
  },
  {
   "cell_type": "code",
   "execution_count": 25,
   "outputs": [],
   "source": [
    "positive_samples = open_data[open_data['article'].isin(filtered_articles)]\n",
    "negative_samples = not_open_data[not_open_data['article'].isin(filtered_articles)]"
   ],
   "metadata": {
    "collapsed": false,
    "pycharm": {
     "name": "#%%\n"
    }
   }
  },
  {
   "cell_type": "code",
   "execution_count": 38,
   "outputs": [
    {
     "data": {
      "text/plain": "['PMC6467449',\n 'PMC6505707',\n 'PMC9279418',\n 'PMC7132284',\n 'PMC7933130',\n 'PMC8443060',\n 'PMC8795560',\n 'PMC7938970',\n 'PMC9369370',\n 'PMC9216730']"
     },
     "execution_count": 38,
     "metadata": {},
     "output_type": "execute_result"
    }
   ],
   "source": [
    "positive_samples = positive_samples.sample(5, random_state=42)\n",
    "negative_samples = negative_samples.sample(5, random_state=42)\n",
    "samples = positive_samples['article'].tolist() + negative_samples['article'].tolist()\n",
    "samples"
   ],
   "metadata": {
    "collapsed": false,
    "pycharm": {
     "name": "#%%\n"
    }
   }
  },
  {
   "cell_type": "code",
   "execution_count": 83,
   "outputs": [],
   "source": [
    "rtransparent_df[rtransparent_df['article'].isin(samples)].to_csv('rtransparent_gpt_xmls.csv', index=False)"
   ],
   "metadata": {
    "collapsed": false,
    "pycharm": {
     "name": "#%%\n"
    }
   }
  },
  {
   "cell_type": "code",
   "execution_count": 40,
   "outputs": [],
   "source": [
    "xml_samples = [xml for xml in xml_files if os.path.basename(xml).strip('.xml') in samples]"
   ],
   "metadata": {
    "collapsed": false,
    "pycharm": {
     "name": "#%%\n"
    }
   }
  },
  {
   "cell_type": "code",
   "execution_count": 80,
   "outputs": [
    {
     "name": "stdout",
     "output_type": "stream",
     "text": [
      "gpt-4-1106-preview\n",
      "# tokens sent to GPT: 11449\n",
      "PMC8795560\n",
      "**********************************\n",
      "rtransparent is open data: False\n",
      "rtransparent data statement: nan\n",
      "**********************************\n",
      "Transparency outline:\n",
      "\n",
      "1. List the types of data reported in the paper\n",
      "The paper is discussing policy and conceptual frameworks regarding genomic data but does not reference specific datasets or raw data generated by the research itself.\n",
      "\n",
      "2. Species of organisms studied(e.g. human, mouse, rat, non-human primate, etc)\n",
      "The paper does not detail specific organisms studied; it speaks broadly about global biodiversity.\n",
      "\n",
      "3. How to obtain raw data\n",
      "The paper does not offer raw data, nor does it present a method for obtaining such data. It notes there is \"no data underlying this work.\"\n",
      "\n",
      "4. Data sharing statement\n",
      "The paper states, \"Data Availability: There are no data underlying this work.\"\n",
      "\n",
      "5. Print a pipe separated csv with: \"type_of_data\" | \"species\" | \"link_to_dataset\" | \"data_sharing_statement\"\n",
      "Since no data were reported and there are no datasets listed to obtain, this CSV will contain only the data sharing statement.\n",
      "\n",
      "csv\n",
      "\"type_of_data\" | \"species\" | \"link_to_dataset\" | \"data_sharing_statement\"\n",
      "\"None\" | \"None\" | \"None\" | \"There are no data underlying this work\"\n",
      "/csv\n",
      "**********************************\n",
      "\n",
      "# tokens sent to GPT: 12945\n",
      "PMC7938970\n",
      "**********************************\n",
      "rtransparent is open data: False\n",
      "rtransparent data statement: nan\n",
      "**********************************\n",
      "Transparency outline:\n",
      "\n",
      "1. List the types of data reported in the paper\n",
      "- Survey responses on leisure time physical activity (LTPA) from the NIH-AARP Diet and Health Study respondents\n",
      "- Healthcare cost data derived from Medicare claims data\n",
      "- Statistical modeling results including the association between LTPA trajectories and Medicare costs\n",
      "\n",
      "2. Species of organisms studied(e.g. human, mouse, rat, non-human primate, etc)\n",
      "- Human\n",
      "\n",
      "3. How to obtain raw data\n",
      "- The raw data sets used in the paper, specifically the NIH-AARP Diet and Health Study and Medicare claims data, were not provided in the text excerpt available. The typical process includes contacting the corresponding authors or institutions, checking any supplementary material, or using provided digital object identifiers (DOIs) that may link to publicly accessible datasets.\n",
      "\n",
      "4. Data sharing statement\n",
      "- A data-sharing statement is not explicitly mentioned in the provided excerpts.\n",
      "\n",
      "5. Print a pipe separated csv with: \"type_of_data\" | \"species\" | \"link_to_dataset\" | \"data_sharing_statement\"\n",
      "\n",
      "csv\n",
      "\"type_of_data\" | \"species\" | \"link_to_dataset\" | \"data_sharing_statement\"\n",
      "\"Survey responses, Medicare claims data, Statistical modeling results\" | \"Human\" | \"\" | \"\"\n",
      "/csv\n",
      "**********************************\n",
      "\n",
      "# tokens sent to GPT: 11399\n",
      "PMC7132284\n",
      "**********************************\n",
      "rtransparent is open data: True\n",
      "rtransparent data statement: the gobs hcp and pnc datasets have been described in detail in prior publications ( 30 32 34 56 58 31 59 si appendix methods i results iv the hcp data used in this study are available to investigators deemed to have a legitimate research use according to the restricted access data use terms described at https://www humanconnectome org https://www nimhgenetics org david glahn@childrens harvard edu john blangero@utrgv edu https://github com/aaronab local correlations of cortical thickness.\n",
      "**********************************\n",
      "Transparency outline:\n",
      "1. List the types of data reported in the paper\n",
      "- High-resolution brain MRI data\n",
      "- Cortical thickness maps\n",
      "- Genotype data\n",
      "\n",
      "2. Species of organisms studied(e.g. human, mouse, rat, non-human primate, etc)\n",
      "- Human\n",
      "\n",
      "3. How to obtain raw data\n",
      "- Human Connectome Project (HCP) data: available at https://www.humanconnectome.org, subject to Restricted Access Data Use Terms.\n",
      "- Philadelphia Neurodevelopmental Cohort (PNC) data: available through dbGaP (phs000607.v1.p1).\n",
      "- Genetics of Brain Structure and Function Study (GOBS) genotype data: available through dbGaP (phs001215.v2.p2).\n",
      "- GOBS imaging phenotypes: available from the National Institute of Mental Health Repository or by contacting the authors directly.\n",
      "\n",
      "4. Data sharing statement\n",
      "- Access to the HCP data used in this study is subject to ethical and scientific review, and investigators must have a legitimate research use according to Restricted Access Data Use Terms. \n",
      "- PNC data is accessible through dbGaP.\n",
      "- GOBS data is available through dbGaP for genotype data and from the National Institute of Mental Health Repository for imaging phenotypes. Potential users must apply for the data by contacting the authors, pass an ethical and scientific review, comply with all relevant guidelines, and complete a material transfer agreement.\n",
      "\n",
      "csv\n",
      "\"type_of_data\" | \"species\" | \"link_to_dataset\" | \"data_sharing_statement\"\n",
      "\"High-resolution brain MRI data, Cortical thickness maps\" | \"Human\" | \"https://www.humanconnectome.org\" | \"Available to investigators deemed to have a legitimate research use according to the Restricted Access Data Use Terms.\"\n",
      "\"Genotype data\" | \"Human\" | \"dbGaP (phs001215.v2.p2)\" | \"Available through dbGaP subject to ethical and scientific review.\"\n",
      "\"Cortical thickness maps\" | \"Human\" | \"https://www.nimhgenetics.org\" | \"Available from the National Institute of Mental Health Repository or by contacting the authors for access to GOBS imaging phenotypes.\"\n",
      "\"/csv\"\n",
      "**********************************\n",
      "\n",
      "# tokens sent to GPT: 11312\n",
      "PMC6505707\n",
      "**********************************\n",
      "rtransparent is open data: True\n",
      "rtransparent data statement: appendix a supplementary data the following are the supplementary data to this article: supplementary data 1 acknowledgements this research was supported by the intramural research program of the national center for complementary and integrative health nih appendix a supplementary data to this article can be found online at https://doi org/10 1016/j ynpai 2018 09 001\n",
      "**********************************\n",
      "Transparency outline:\n",
      "1. List the types of data reported in the paper:\n",
      "- Participant ratings of heat stimuli (pain ratings before and after placebo induction).\n",
      "- Sensory discrimination accuracy.\n",
      "- Effectiveness ratings of the analgesic cream.\n",
      "- Tables and figures with summarized results and statistical analyses.\n",
      "\n",
      "2. Species of organisms studied:\n",
      "- Human.\n",
      "\n",
      "3. How to obtain raw data:\n",
      "- The paper does not provide explicit information or instructions on how to obtain the raw data.\n",
      "\n",
      "4. Data sharing statement:\n",
      "- No such statement is provided within the provided sections of the paper.\n",
      "\n",
      "5. Print a pipe-separated csv:\n",
      "```\n",
      "csv\n",
      "\"type_of_data\" | \"species\" | \"link_to_dataset\" | \"data_sharing_statement\"\n",
      "\"Pain ratings, Sensory discrimination accuracy, Effectiveness ratings\" | \"Human\" | \"\" | \"\"\n",
      "/csv\n",
      "```\n",
      "**********************************\n",
      "\n",
      "# tokens sent to GPT: 12940\n",
      "PMC7933130\n",
      "**********************************\n",
      "rtransparent is open data: True\n",
      "rtransparent data statement: competing interests the authors declare no competing interest data availability em densities and protein models have been deposited in the electron microscopy data bank and protein data bank for the nact-citrate (emd-22457 7jsk) and nact-pf2 (emd-22456 7jsj) complexes.      data availability em densities and protein models have been deposited in the electron microscopy data bank and protein data bank for the nact-citrate (emd-22457\n",
      "**********************************\n",
      "Transparency outline:\n",
      "\n",
      "1. List the types of data reported in the paper:\n",
      "- Cryo-EM structural data\n",
      "- Cellular localization and proteolytic susceptibility analysis\n",
      "- Fluorescence size-exclusion chromatography (FSEC)\n",
      "- Size-exclusion chromatography (SEC)\n",
      "- Whole cell transport assay with radioactive citrate\n",
      "- Thermostabilization assay results\n",
      "- Tryptophan fluorescence quenching data\n",
      "- Multi-angle light scattering (MALS) data\n",
      "- Biochemical analysis of mutations responsible for SLC13A5-Epilepsy\n",
      "\n",
      "2. Species of organisms studied:\n",
      "- Human (HEK293 cells, SLC13A5 gene)\n",
      "\n",
      "3. How to obtain raw data:\n",
      "The paper mentions \"Source data are provided as a Source Data file.\" under the \"Protein purification\" section. However, the specific link or repository where the source data can be accessed is not explicitly stated in the text provided.\n",
      "\n",
      "4. Data sharing statement:\n",
      "No explicit data sharing policy statement is provided in the text excerpts given. To know the full details of the data sharing policy, one might need to refer to the journal's policy or the full version of the paper.\n",
      "\n",
      "5. Print a pipe separated csv with: \"type_of_data\" | \"species\" | \"link_to_dataset\" | \"data_sharing_statement\":\n",
      "```\n",
      "csv\n",
      "type_of_data | species | link_to_dataset | data_sharing_statement\n",
      "Cryo-EM structural data | Human | Not provided | Source data are provided as a Source Data file.\n",
      "Cellular localization and proteolytic susceptibility analysis | Human | Not provided | Source data are provided as a Source Data file.\n",
      "Fluorescence size-exclusion chromatography (FSEC) | Human | Not provided | Source data are provided as a Source Data file.\n",
      "Size-exclusion chromatography (SEC) | Human | Not provided | Source data are provided as a Source Data file.\n",
      "Whole cell transport assay with radioactive citrate | Human | Not provided | Source data are provided as a Source Data file.\n",
      "Thermostabilization assay results | Human | Not provided | Source data are provided as a Source Data file.\n",
      "Tryptophan fluorescence quenching data | Human | Not provided | Source data are provided as a Source Data file.\n",
      "Multi-angle light scattering (MALS) data | Human | Not provided | Source data are provided as a Source Data file.\n",
      "Biochemical analysis of mutations responsible for SLC13A5-Epilepsy | Human | Not provided | Source data are provided as a Source Data file.\n",
      "/csv\n",
      "```\n",
      "**********************************\n",
      "\n",
      "# tokens sent to GPT: 14045\n",
      "PMC8443060\n",
      "**********************************\n",
      "rtransparent is open data: False\n",
      "rtransparent data statement: nan\n",
      "**********************************\n",
      "Transparency outline:\n",
      "\n",
      "1. List the types of data reported in the paper\n",
      "- Colorectal cancer incidence and risk factors\n",
      "- Baseline demographic and lifestyle characteristics\n",
      "- Food consumption frequencies\n",
      "- Intervention groups and supplementation details\n",
      "- Statistical analysis outcomes including relative risks (RRs), hazard ratios, 95% confidence intervals (CIs), and P-values\n",
      "\n",
      "2. Species of organisms studied(e.g. human, mouse, rat, non-human primate, etc)\n",
      "- Human\n",
      "\n",
      "3. How to obtain raw data\n",
      "- The paper does not provide explicit instructions or a repository link for obtaining the raw data.\n",
      "\n",
      "4. Data sharing statement\n",
      "- The paper does not include a data sharing statement.\n",
      "\n",
      "5. Print a pipe separated csv with: \"type_of_data\" | \"species\" | \"link_to_dataset\" | \"data_sharing_statement\"\n",
      "```\n",
      "csv\n",
      "\"type_of_data\" | \"species\" | \"link_to_dataset\" | \"data_sharing_statement\"\n",
      "\"Colorectal cancer incidence and risk factors | Baseline demographic and lifestyle characteristics | Food consumption frequencies | Intervention groups and supplementation details | Statistical analysis outcomes\" | \"Human\" | \"\" | \"\"\n",
      "/csv\n",
      "```\n",
      "**********************************\n",
      "\n",
      "# tokens sent to GPT: 10556\n",
      "PMC9369370\n",
      "**********************************\n",
      "rtransparent is open data: False\n",
      "rtransparent data statement: nan\n",
      "**********************************\n",
      "Transparency outline:\n",
      "1. List the types of data reported in the paper\n",
      "2. Species of organisms studied(e.g. human, mouse, rat, non-human primate, etc)\n",
      "3. How to obtain raw data\n",
      "4. Data sharing statement\n",
      "5. Print a pipe separated csv with: \"type_of_data\" | \"species\" | \"link_to_dataset\" | \"data_sharing_statement\"\n",
      "\n",
      "1. The types of data reported in the paper include:\n",
      "   - Fatty acid composition of diets\n",
      "   - Hepatic fatty acid composition\n",
      "   - Plasma and hepatic lipid profiles\n",
      "   - Aortic atherosclerosis quantification\n",
      "   - Plasma cytokine levels\n",
      "   - Gene expression in liver and white adipose tissue\n",
      "   - Biochemical analyses data (e.g., lipoprotein fractions)\n",
      "   - Atherosclerotic lesion and aortic calcification analyses\n",
      "\n",
      "2. Species of organisms studied: Mouse (specifically, low-density lipoprotein receptor knock-out (LDLR-KO) mice)\n",
      "\n",
      "3. How to obtain raw data: The paper does not provide explicit instructions or links on how to obtain the raw data. Normally, raw data can be requested from the corresponding author, whose contact information is typically provided in the published paper.\n",
      "\n",
      "4. Data sharing statement: The paper does not include a data sharing statement.\n",
      "\n",
      "5.\n",
      "csv\n",
      "\"type_of_data\" | \"species\" | \"link_to_dataset\" | \"data_sharing_statement\"\n",
      "\"Fatty acid composition of diets, Hepatic fatty acid composition, Plasma and hepatic lipid profiles, Aortic atherosclerosis quantification, Plasma cytokine levels, Gene expression in liver and white adipose tissue, Biochemical analyses data, Atherosclerotic lesion and aortic calcification analyses\" | \"Mouse\" | \"\" | \"No data sharing statement provided\"\n",
      "/csv\n",
      "**********************************\n",
      "\n",
      "# tokens sent to GPT: 8625\n",
      "PMC9279418\n",
      "**********************************\n",
      "rtransparent is open data: True\n",
      "rtransparent data statement: data availability cryo-em density maps and the atomic model of prp sc emd-25824\n",
      "**********************************\n",
      "Transparency outline:\n",
      "The scientific publication titled \"Cryo-EM structure of anchorless RML prion reveals variations in shared motifs between distinct strains\" appears to have shared relevant data in accordance with scientific transparency norms.\n",
      "\n",
      "1. List the types of data reported in the paper\n",
      "- Cryo-EM-based structural data of infectious brain-derived fibrils\n",
      "- PAGE gels and Western blot analysis data\n",
      "- Mass spectrometry analysis data\n",
      "- Infectivity bioassay results using transgenic mice\n",
      "- Cryo-electron tomography data and analysis\n",
      "- Helical reconstruction data obtained through image processing\n",
      "- Molecular dynamics simulation data\n",
      "\n",
      "2. Species of organisms studied\n",
      "- Mouse (Mus musculus)\n",
      "\n",
      "3. How to obtain raw data\n",
      "The paper itself does not explicitly state how to obtain the raw data, but it does mention methods and supplemental information that might contain details on how the data can be accessed. For precise instructions on obtaining the data, one typically would check the \"Supplementary Information\" section, the associated \"Reporting Summary,\" or directly contact the corresponding authors.\n",
      "\n",
      "4. Data sharing statement\n",
      "The paper does not include an explicit data sharing statement within the excerpt provided. However, most journals require authors to make data available upon reasonable request, and raw data can often be found in supplemental files or deposited in public repositories linked to the publication.\n",
      "\n",
      "5. Print a pipe separated csv with: \"type_of_data\" | \"species\" | \"link_to_dataset\" | \"data_sharing_statement\"\n",
      "```plaintext\n",
      "csv\n",
      "\"type_of_data\" | \"species\" | \"link_to_dataset\" | \"data_sharing_statement\"\n",
      "\"Cryo-EM-based structural, PAGE gels, Western blot, Mass spectrometry, Infectivity bioassay results, Cryo-electron tomography, Helical reconstruction, Molecular dynamics simulation\" | \"Mouse\" | \"Not specified in the provided content\" | \"Not explicitly stated in the provided content\"\n",
      "/csv\n",
      "```\n",
      "**********************************\n",
      "\n",
      "# tokens sent to GPT: 2233\n",
      "PMC9216730\n",
      "**********************************\n",
      "rtransparent is open data: False\n",
      "rtransparent data statement: nan\n",
      "**********************************\n",
      "Transparency outline:\n",
      "\n",
      "1. List the types of data reported in the paper\n",
      "- Clinical data (patient characteristics, rebound symptoms)\n",
      "- Virologic data (viral load, PCR cycle thresholds, viral sequencing, virus isolation)\n",
      "- Immunologic data (antibody levels, T-cell counts and responses, soluble biomarkers, inflammatory markers)\n",
      "\n",
      "2. Species of organisms studied\n",
      "- Human\n",
      "\n",
      "3. How to obtain raw data\n",
      "- The paper suggests that detailed methods and additional data are provided in the supplementary materials (indicated as \"supplement\"). However, no explicit mention of how to access the raw data is provided in the excerpt. Typically, one can obtain such data by checking the supplementary materials or by contacting the authors directly, often provided in the supplementary material or the main text of the publication.\n",
      "\n",
      "4. Data sharing statement\n",
      "- No data sharing statement is explicitly provided in the abstract, main content, or figures/tables captions included in the excerpt.\n",
      "\n",
      "5. Print a pipe separated csv with: \"type_of_data\" | \"species\" | \"link_to_dataset\" | \"data_sharing_statement\"\n",
      "\n",
      "csv\n",
      "\"type_of_data\" | \"species\" | \"link_to_dataset\" | \"data_sharing_statement\"\n",
      "\"Clinical, Virologic, Immunologic\" | \"Human\" | \"Not Provided\" | \"Not Provided\"\n",
      "/csv\n",
      "**********************************\n",
      "\n",
      "# tokens sent to GPT: 13474\n",
      "PMC6467449\n",
      "**********************************\n",
      "rtransparent is open data: True\n",
      "rtransparent data statement: file s1 table ghana breast health study recruiting population controls minimal dataset (xlsx\n",
      "**********************************\n",
      "Transparency outline:\n",
      "1. List the types of data reported in the paper\n",
      "- Demographic data of control participants\n",
      "- Questionnaire responses regarding medical history, reproductive history, body size, family history of breast cancer, and lifestyle factors\n",
      "- Measurements of weight, height, waist and hip circumference\n",
      "- Saliva and blood samples\n",
      "\n",
      "2. Species of organisms studied\n",
      "- Human\n",
      "\n",
      "3. How to obtain raw data\n",
      "- There is no clear indication in the provided content that raw data is shared or how to obtain it. To access the raw data, one would typically need to contact the authors or access a data repository if any is listed.\n",
      "\n",
      "4. Data sharing statement\n",
      "- No explicit data sharing statement is provided in the provided content.\n",
      "\n",
      "5. Print a pipe separated csv with: \"type_of_data\" | \"species\" | \"link_to_dataset\" | \"data_sharing_statement\"\n",
      "\n",
      "csv\n",
      "\"type_of_data\" | \"species\" | \"link_to_dataset\" | \"data_sharing_statement\"\n",
      "\"Demographic data, Questionnaire responses, Body measurements, Biological samples\" | \"Human\" | \"\" | \"No data sharing statement provided\"\n",
      "/csv\n",
      "**********************************\n",
      "\n"
     ]
    }
   ],
   "source": [
    "full_output = \"\"\n",
    "full_output += wrapper.model_name\n",
    "print(full_output)\n",
    "for xml in xml_samples:\n",
    "    current_output = \"\"\n",
    "    article = os.path.basename(xml).strip('.xml')\n",
    "    with open(xml) as xml_f:\n",
    "        current_output += article\n",
    "        current_output += '\\n**********************************\\n'\n",
    "        current_output += f\"rtransparent is open data: {rtransparent_df[rtransparent_df['article'] == article]['is_open_data'].iloc[0]}\\n\"\n",
    "        current_output += f\"rtransparent data statement: {rtransparent_df[rtransparent_df['article'] == article]['open_data_statements'].iloc[0]}\\n\"\n",
    "        current_output += '**********************************\\n'\n",
    "        parsed_xml = step2_parse_xml(xml_f.read())\n",
    "        generated = step3_get_lm_review(wrapper, parsed_xml)\n",
    "        current_output += generated[\"review_generated\"]\n",
    "        current_output += '\\n**********************************\\n'\n",
    "        print(current_output)\n",
    "        time.sleep(60)\n",
    "    full_output += current_output"
   ],
   "metadata": {
    "collapsed": false,
    "pycharm": {
     "name": "#%%\n"
    }
   }
  }
 ],
 "metadata": {
  "kernelspec": {
   "display_name": "Python 3",
   "language": "python",
   "name": "python3"
  },
  "language_info": {
   "codemirror_mode": {
    "name": "ipython",
    "version": 2
   },
   "file_extension": ".py",
   "mimetype": "text/x-python",
   "name": "python",
   "nbconvert_exporter": "python",
   "pygments_lexer": "ipython2",
   "version": "2.7.6"
  }
 },
 "nbformat": 4,
 "nbformat_minor": 0
}
